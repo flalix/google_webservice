{
 "cells": [
  {
   "cell_type": "markdown",
   "id": "637f475c-1e8a-4c0d-b130-91f66fc8ce28",
   "metadata": {},
   "source": [
    "## Como indagar o Gemini através de uma chamada de webservice\n",
    "\n",
    "  1. Vá no site to gemini e obtenha\n",
    "     * URL de chamada\n",
    "     * API-KEY\n",
    "     * como chamar o webservice\n",
    "  2. Veja quais os modelos de LLMs treinadas da Google (Gemini e Gemma)\n",
    "  3. Escolha um dos modelos\n",
    "  4. Crie uma questão a ser enviada\n",
    "  5. Gere a chamada para o Web Service\n",
    "  6. Chame o Web Service\n",
    "  7. Se a resposta for erro: avise que deu erro.\n",
    "  8. Processe a resposta e armazene em 'algum lugar'\n"
   ]
  },
  {
   "cell_type": "markdown",
   "id": "c885e780-134e-4f97-9fcb-20c3138b4ecb",
   "metadata": {},
   "source": [
    "## How to query Gemini through a webservice call\n",
    "\n"
   ]
  },
  {
   "cell_type": "code",
   "execution_count": null,
   "id": "979c8708-0f6c-4a08-88f1-bd07df2bb97f",
   "metadata": {},
   "outputs": [],
   "source": []
  },
  {
   "cell_type": "markdown",
   "id": "dcc89e6f-9b48-43a9-9d52-bc449b651121",
   "metadata": {},
   "source": [
    "### Qual meu Python?"
   ]
  },
  {
   "cell_type": "code",
   "execution_count": null,
   "id": "86d6e586-3aa2-427d-9be0-6e5ab72cab45",
   "metadata": {},
   "outputs": [],
   "source": [
    "from platform import python_version\n",
    "print(python_version())"
   ]
  },
  {
   "cell_type": "markdown",
   "id": "a981c27a-18d8-4dba-8a44-3ccb1b4aa95f",
   "metadata": {},
   "source": [
    "### Abrindo as bibliotecas (pacotes) necessários"
   ]
  },
  {
   "cell_type": "code",
   "execution_count": 37,
   "id": "6a8c1db1-59f4-4e9f-a5cc-209ee33f3121",
   "metadata": {},
   "outputs": [],
   "source": [
    "import os, sys, json, yaml\n",
    "from os.path import exists\n",
    "from os.path import join as osjoin\n",
    "from typing import Optional, Iterable, Set, Tuple, Any, List"
   ]
  },
  {
   "cell_type": "markdown",
   "id": "3145657e-f0e8-4b36-b116-128a91ce2a11",
   "metadata": {},
   "source": [
    "### Obtendo email e keypass\n",
    "\n",
    "   Nunca mostre seu email e a chave de acesso remoto do Google AI"
   ]
  },
  {
   "cell_type": "code",
   "execution_count": 21,
   "id": "673be4c4-4873-497f-ad7a-2e2fa7119709",
   "metadata": {},
   "outputs": [],
   "source": [
    "with open('params.yml', 'r') as file:\n",
    "    dic_yml = yaml.safe_load(file)"
   ]
  },
  {
   "cell_type": "code",
   "execution_count": 22,
   "id": "63c5089b-b6f2-40db-82b5-7e0290520a8e",
   "metadata": {},
   "outputs": [],
   "source": [
    "email = dic_yml['email']\n",
    "API_KEY = dic_yml['API_KEY']"
   ]
  },
  {
   "cell_type": "code",
   "execution_count": 24,
   "id": "2a20f6b0-75d3-43c0-a01e-aa4d34c6d01d",
   "metadata": {},
   "outputs": [
    {
     "data": {
      "text/plain": [
       "'fla'"
      ]
     },
     "execution_count": 24,
     "metadata": {},
     "output_type": "execute_result"
    }
   ],
   "source": [
    "email[:3]"
   ]
  },
  {
   "cell_type": "code",
   "execution_count": 25,
   "id": "1d41d6aa-7a7c-4747-8b0e-bd508feb97bc",
   "metadata": {},
   "outputs": [
    {
     "data": {
      "text/plain": [
       "'AIzaS'"
      ]
     },
     "execution_count": 25,
     "metadata": {},
     "output_type": "execute_result"
    }
   ],
   "source": [
    "API_KEY[:5]"
   ]
  },
  {
   "cell_type": "markdown",
   "id": "c33b11be-cbed-4ca6-9814-71ba93161670",
   "metadata": {},
   "source": [
    "### Defaults Gemini"
   ]
  },
  {
   "cell_type": "code",
   "execution_count": 49,
   "id": "096f50f4-2c4a-4f36-9834-344a612c99d5",
   "metadata": {},
   "outputs": [],
   "source": [
    "# como indagar o web service:\n",
    "#   falta o modelo e a API_KEY\n",
    "gemini_URL0 = \"https://generativelanguage.googleapis.com/v1beta/models/%s-latest:generateContent?key=%s\"\n",
    "\n",
    "gemini_models = ['gemini-1.0-pro', 'gemini-1.5-pro', \n",
    "                 'gemini-1.5-flash-8b', 'gemini-1.5-flash', \n",
    "                 'gemini-2.0-flash-exp', \n",
    "                 'gemma-2-2b-it', 'gemma-2-9b-it', 'gemma-2-27b-it']"
   ]
  },
  {
   "cell_type": "code",
   "execution_count": null,
   "id": "215c334c-b881-449b-a2a2-c18f8425699d",
   "metadata": {},
   "outputs": [],
   "source": []
  },
  {
   "cell_type": "markdown",
   "id": "5aa2671e-39ff-4a5f-a2d6-9bae7a4f051f",
   "metadata": {},
   "source": [
    "### Definindo o endereço do Gemini (Google AI)"
   ]
  },
  {
   "cell_type": "code",
   "execution_count": 50,
   "id": "eedcca5b-c0ba-4939-98bc-be031c1da45e",
   "metadata": {},
   "outputs": [
    {
     "data": {
      "text/plain": [
       "'gemini-1.5-flash'"
      ]
     },
     "execution_count": 50,
     "metadata": {},
     "output_type": "execute_result"
    }
   ],
   "source": [
    "gemini_model = gemini_models[3]\n",
    "gemini_model"
   ]
  },
  {
   "cell_type": "code",
   "execution_count": 51,
   "id": "2901df39-24c2-4f98-82f4-db0260ac8c2c",
   "metadata": {},
   "outputs": [
    {
     "data": {
      "text/plain": [
       "'https://generativelanguage.googleapis.com/v1beta/models/gemini-1.5-flash-latest:generateContent?key=AIzaSyA1Z'"
      ]
     },
     "execution_count": 51,
     "metadata": {},
     "output_type": "execute_result"
    }
   ],
   "source": [
    "gemini_URL = gemini_URL0%(gemini_model, API_KEY)\n",
    "gemini_URL[:-30]"
   ]
  },
  {
   "cell_type": "code",
   "execution_count": null,
   "id": "2873068d-9ec4-4fe3-8aca-966fa2e0d367",
   "metadata": {},
   "outputs": [],
   "source": []
  },
  {
   "cell_type": "code",
   "execution_count": 52,
   "id": "e0f11378-8c62-412a-bd12-9ea73b697f67",
   "metadata": {},
   "outputs": [],
   "source": [
    "def run_curl_gemini(question:str, temperature:float=0.1, topK:int=50, \n",
    "                    topP:float=0.10, maxOutputTokens:int=4096, stopSequences:List=[], \n",
    "                    dir_gemini:str='./', echo:bool=False, verbose:bool=False) -> List:\n",
    "\n",
    "    question = question.replace('\"','').replace(\"'\",\"\").replace(\"\\n\",\" \")\n",
    "\n",
    "    fname_json = f\"{dir_gemini}/response.json\"\n",
    "    fname_cmd  = f\"{dir_gemini}/run_curl.sh\"\n",
    "\n",
    "    curl_msg =  \"curl -H 'Content-Type: application/json' -d \" + \\\n",
    "                \"'{\\\"contents\\\":[{\\\"parts\\\":[{\\\"text\\\":\\\"{\" + question + \"}\\\"}]}], \" + \\\n",
    "                \"\\\"generationConfig\\\":{\" +  \\\n",
    "               f\"\\\"temperature\\\":{temperature}, \\\"topK\\\":{topK},\\\"topP\\\":{topP}, \" + \\\n",
    "               f\"\\\"maxOutputTokens\\\":{maxOutputTokens},\\\"stopSequences\\\":{str(stopSequences)}\" +  \\\n",
    "                \"}\" +  \\\n",
    "                \"}' -X POST '{\" + gemini_URL + \"}' --silent >> \" + fname_json\n",
    "\n",
    "    if echo:\n",
    "        print(\">>> curl_msg\")\n",
    "        print(curl_msg)\n",
    "        print(\"\")\n",
    "        return\n",
    "\n",
    "    if os.path.exists(fname_json):\n",
    "        os.remove(fname_json)\n",
    "\n",
    "    # write the command line\n",
    "    try:\n",
    "        write_txt(curl_msg, fname_cmd)\n",
    "        os.system(f\"chmod +x '{fname_cmd}'\")\n",
    "    except ValueError:\n",
    "        s_error = f\"Error: writing '{ValueError}' in 'run_curl.sh' in run_curl_gemini()\"\n",
    "        print(s_error)\n",
    "        return []\n",
    "\n",
    "    response = None; dic={}\n",
    "\n",
    "    try:\n",
    "        os.system(f\"{fname_cmd}\")\n",
    "\n",
    "        with open(fname_json) as f:\n",
    "            dic = json.load(f)\n",
    "\n",
    "    except ValueError:\n",
    "        dic = None\n",
    "        s_error = f\"Error: calling gemini '{ValueError}'\"\n",
    "        if verbose: print(s_error)\n",
    "        return []\n",
    "\n",
    "    try:\n",
    "        list_candidates = dic['candidates']\n",
    "    except:\n",
    "        error_code = dic['error']['code']\n",
    "        error_msg  = dic['error']['message']\n",
    "        s_error = f\"Error: calling gemini '{error_code}: {error_msg}'\"\n",
    "        if verbose:\n",
    "            print(s_error)\n",
    "            print(\"---------------------\")\n",
    "            print(curl_msg)\n",
    "            print(\"---------------------\")\n",
    "        list_candidates = []\n",
    "\n",
    "    return list_candidates\n",
    "\n",
    "\n",
    "def response_candidate(list_candidates:List, n_candidate:int=0, verbose:bool=False) -> str:\n",
    "\n",
    "    try:\n",
    "        parts = list_candidates[n_candidate]['content']['parts']\n",
    "\n",
    "        text = ''\n",
    "        for i in range(len(parts)):\n",
    "            text += parts[i]['text'] + '\\n'\n",
    "    except:\n",
    "        s_error = \"Error in obtaining text in response (list_candidates)\"\n",
    "        if verbose: print(s_error, end=' ')\n",
    "        return None\n",
    "\n",
    "    return text\n",
    "\n",
    "        \n",
    "def write_txt(text, filename, path=\"./\", to_append=False, verbose=False): # encondig = 'utf-8',\n",
    "\tif not exists(path):\n",
    "\t\tos.mkdir(path)\n",
    "\n",
    "\tfilename = osjoin(path, filename)\n",
    "\ttry:\n",
    "\t\tret = True\n",
    "\t\tif to_append:\n",
    "\t\t\th = open(filename, mode = \"a+\")\n",
    "\t\telse:\n",
    "\t\t\th = open(filename, mode = \"w\")\n",
    "\t\th.write(text)\n",
    "\texcept ValueError:\n",
    "\t\tprint(f\"Error '{ValueError}', writing in '{filename}'\")\n",
    "\t\tret = False\n",
    "\tfinally:\n",
    "\t\th.close()\n",
    "\n",
    "\tif not ret:\n",
    "\t\treturn False\n",
    "\n",
    "\tif verbose: print(f\"File saved: {filename}\")\n",
    "\treturn True\n"
   ]
  },
  {
   "cell_type": "markdown",
   "id": "a7a5c5ef-a862-40b4-92e7-a3443f0adbcb",
   "metadata": {},
   "source": [
    "### Definindo a questão"
   ]
  },
  {
   "cell_type": "code",
   "execution_count": 53,
   "id": "2f0bbc2a-69ef-461e-a8f3-558ecc1bc2e1",
   "metadata": {},
   "outputs": [
    {
     "name": "stdout",
     "output_type": "stream",
     "text": [
      "Answer in the first line Yes, Possible, Low evidence or No, and explain: is the cytokine storm a fundamental cause of COVID-19 deaths? Context: COVID-19 was a pandemic that began in late 2019 and affected the entire planet,killing more than 6 million people. The cytokine storm is the massive release of inflammatory interleukins, mainly IL6, in severe cases of COVID-19.\n"
     ]
    }
   ],
   "source": [
    "question = \\\n",
    "\"\"\"Answer in the first line Yes, Possible, Low evidence or No, and explain: \n",
    "is the cytokine storm a fundamental cause of COVID-19 deaths? \n",
    "Context: COVID-19 was a pandemic that began in late 2019 and affected the entire planet,\n",
    "killing more than 6 million people. The cytokine storm is the massive release of \n",
    "inflammatory interleukins, mainly IL6, in severe cases of COVID-19.\"\"\"\n",
    "\n",
    "question = question.replace('\\n','')\n",
    "\n",
    "print(question)"
   ]
  },
  {
   "cell_type": "code",
   "execution_count": null,
   "id": "c9420666-fc93-4e14-9a6d-64ab26ce9b2f",
   "metadata": {},
   "outputs": [],
   "source": []
  },
  {
   "cell_type": "code",
   "execution_count": 54,
   "id": "5dee2abc-f7f8-4e0e-b87e-7d97629d9162",
   "metadata": {},
   "outputs": [],
   "source": [
    "temperature=0.1\n",
    "topK=50\n",
    "topP=0.10\n",
    "maxOutputTokens=4096\n",
    "stopSequences=[]\n",
    "\n",
    "echo=True\n",
    "verbose=True\n",
    "\n",
    "list_candidates = run_curl_gemini(question, temperature=temperature, topK=topK, topP=topP,\n",
    "                                  maxOutputTokens=maxOutputTokens, stopSequences=stopSequences,\n",
    "                                  verbose=verbose)"
   ]
  },
  {
   "cell_type": "code",
   "execution_count": 55,
   "id": "91d5b1c8-cf8f-4540-a335-4b10e37d1591",
   "metadata": {},
   "outputs": [
    {
     "data": {
      "text/plain": [
       "[{'content': {'parts': [{'text': \"No.\\n\\nWhile a cytokine storm is associated with severe COVID-19 and contributes to mortality in some cases, it's not a *fundamental* cause of death.  The virus itself, SARS-CoV-2, directly damages lung tissue and other organs, leading to respiratory failure and multi-organ dysfunction.  The cytokine storm is a *consequence* of the infection, a hyperinflammatory response that exacerbates the damage caused by the virus.  Death is often a multifactorial process involving direct viral damage, the immune response (including the cytokine storm), and pre-existing conditions.  Therefore, attributing death solely to the cytokine storm is an oversimplification.\\n\"}],\n",
       "   'role': 'model'},\n",
       "  'finishReason': 'STOP',\n",
       "  'avgLogprobs': -0.10554480207139168}]"
      ]
     },
     "execution_count": 55,
     "metadata": {},
     "output_type": "execute_result"
    }
   ],
   "source": [
    "list_candidates"
   ]
  },
  {
   "cell_type": "code",
   "execution_count": null,
   "id": "8c64e0f5-57db-474f-90cf-2815f73a770d",
   "metadata": {},
   "outputs": [],
   "source": []
  },
  {
   "cell_type": "markdown",
   "id": "200e6489-93fd-4935-9fd0-b449681afc02",
   "metadata": {},
   "source": [
    "### Resposta total do modelo Gemini 1.5-flash"
   ]
  },
  {
   "cell_type": "code",
   "execution_count": 56,
   "id": "b9a43fcf-4c51-4a2c-b0d3-b305343855a0",
   "metadata": {},
   "outputs": [
    {
     "data": {
      "text/plain": [
       "\"No.\\n\\nWhile a cytokine storm is associated with severe COVID-19 and contributes to mortality in some cases, it's not a *fundamental* cause of death.  The virus itself, SARS-CoV-2, directly damages lung tissue and other organs, leading to respiratory failure and multi-organ dysfunction.  The cytokine storm is a *consequence* of the infection, a hyperinflammatory response that exacerbates the damage caused by the virus.  Death is often a multifactorial process involving direct viral damage, the immune response (including the cytokine storm), and pre-existing conditions.  Therefore, attributing death solely to the cytokine storm is an oversimplification.\""
      ]
     },
     "execution_count": 56,
     "metadata": {},
     "output_type": "execute_result"
    }
   ],
   "source": [
    "response = response_candidate(list_candidates, 0)\n",
    "if response is None:\n",
    "    response = 'Nothing found'\n",
    "else:\n",
    "    response = response.strip()\n",
    "\n",
    "response"
   ]
  },
  {
   "cell_type": "markdown",
   "id": "b2296ea2-263d-4917-85df-11d59e3729e2",
   "metadata": {},
   "source": [
    "### Resposta: Sim ou Não"
   ]
  },
  {
   "cell_type": "code",
   "execution_count": 58,
   "id": "298750f7-274b-4e3c-8b5b-ad072ed16d90",
   "metadata": {},
   "outputs": [
    {
     "data": {
      "text/plain": [
       "'No'"
      ]
     },
     "execution_count": 58,
     "metadata": {},
     "output_type": "execute_result"
    }
   ],
   "source": [
    "response_yes_no = response.split('.')[0]\n",
    "response_yes_no"
   ]
  },
  {
   "cell_type": "markdown",
   "id": "5aa37f8e-895b-44b7-a26f-3d151a4ffa07",
   "metadata": {},
   "source": [
    "### Explicação"
   ]
  },
  {
   "cell_type": "code",
   "execution_count": 62,
   "id": "4450a4bb-2d47-4e6e-94d3-7a6465d3ff6e",
   "metadata": {},
   "outputs": [
    {
     "name": "stdout",
     "output_type": "stream",
     "text": [
      "While a cytokine storm is associated with severe COVID-19 and contributes to mortality in some cases, it's not a *fundamental* cause of death.  The virus itself, SARS-CoV-2, directly damages lung tissue and other organs, leading to respiratory failure and multi-organ dysfunction.  The cytokine storm is a *consequence* of the infection, a hyperinflammatory response that exacerbates the damage caused by the virus.  Death is often a multifactorial process involving direct viral damage, the immune response (including the cytokine storm), and pre-existing conditions.  Therefore, attributing death solely to the cytokine storm is an oversimplification.\n"
     ]
    }
   ],
   "source": [
    "explanation = \".\".join(response.split('.')[1:])\n",
    "explanation = explanation.replace('\\n','')\n",
    "print(explanation)"
   ]
  },
  {
   "cell_type": "code",
   "execution_count": null,
   "id": "15924c30-1d51-4436-bd84-1ae22dea9272",
   "metadata": {},
   "outputs": [],
   "source": []
  }
 ],
 "metadata": {
  "kernelspec": {
   "display_name": "Python 3 (ipykernel)",
   "language": "python",
   "name": "python3"
  },
  "language_info": {
   "codemirror_mode": {
    "name": "ipython",
    "version": 3
   },
   "file_extension": ".py",
   "mimetype": "text/x-python",
   "name": "python",
   "nbconvert_exporter": "python",
   "pygments_lexer": "ipython3",
   "version": "3.11.9"
  }
 },
 "nbformat": 4,
 "nbformat_minor": 5
}
